{
 "cells": [
  {
   "cell_type": "code",
   "execution_count": 1,
   "metadata": {},
   "outputs": [],
   "source": [
    "import csv\n",
    "import requests\n",
    "import pandas as pd \n",
    "import io\n",
    "import os\n",
    "import matplotlib.pyplot as plt\n",
    "import matplotlib.dates as mdates\n",
    "import numpy as np\n",
    "import time"
   ]
  },
  {
   "cell_type": "code",
   "execution_count": 2,
   "metadata": {},
   "outputs": [
    {
     "name": "stdout",
     "output_type": "stream",
     "text": [
      "['gemini_ETHUSD_day.csv', 'gemini_BTCUSD_day.csv', 'gemini_ZECUSD_day.csv', 'gemini_LTCUSD_day.csv']\n"
     ]
    }
   ],
   "source": [
    "path = 'gemini'\n",
    "dir_list = os.listdir(path)\n",
    "print(dir_list)"
   ]
  },
  {
   "cell_type": "code",
   "execution_count": 3,
   "metadata": {},
   "outputs": [
    {
     "data": {
      "text/html": [
       "<div>\n",
       "<style scoped>\n",
       "    .dataframe tbody tr th:only-of-type {\n",
       "        vertical-align: middle;\n",
       "    }\n",
       "\n",
       "    .dataframe tbody tr th {\n",
       "        vertical-align: top;\n",
       "    }\n",
       "\n",
       "    .dataframe thead th {\n",
       "        text-align: right;\n",
       "    }\n",
       "</style>\n",
       "<table border=\"1\" class=\"dataframe\">\n",
       "  <thead>\n",
       "    <tr style=\"text-align: right;\">\n",
       "      <th></th>\n",
       "      <th>Unix Timestamp</th>\n",
       "      <th>Date</th>\n",
       "      <th>Symbol</th>\n",
       "      <th>Open</th>\n",
       "      <th>High</th>\n",
       "      <th>Low</th>\n",
       "      <th>Close</th>\n",
       "      <th>Volume</th>\n",
       "    </tr>\n",
       "  </thead>\n",
       "  <tbody>\n",
       "    <tr>\n",
       "      <th>0</th>\n",
       "      <td>1626580800000</td>\n",
       "      <td>2021-07-18 04:00:00</td>\n",
       "      <td>ETHUSD</td>\n",
       "      <td>1982.38</td>\n",
       "      <td>1989.09</td>\n",
       "      <td>1877.53</td>\n",
       "      <td>1892.62</td>\n",
       "      <td>12135.666773</td>\n",
       "    </tr>\n",
       "    <tr>\n",
       "      <th>1</th>\n",
       "      <td>1626494400000</td>\n",
       "      <td>2021-07-17 04:00:00</td>\n",
       "      <td>ETHUSD</td>\n",
       "      <td>1867.19</td>\n",
       "      <td>1993.73</td>\n",
       "      <td>1845.78</td>\n",
       "      <td>1982.38</td>\n",
       "      <td>14567.236055</td>\n",
       "    </tr>\n",
       "    <tr>\n",
       "      <th>2</th>\n",
       "      <td>1626408000000</td>\n",
       "      <td>2021-07-16 04:00:00</td>\n",
       "      <td>ETHUSD</td>\n",
       "      <td>1949.43</td>\n",
       "      <td>1949.43</td>\n",
       "      <td>1858.73</td>\n",
       "      <td>1867.19</td>\n",
       "      <td>5054.764899</td>\n",
       "    </tr>\n",
       "    <tr>\n",
       "      <th>3</th>\n",
       "      <td>1626321600000</td>\n",
       "      <td>2021-07-15 04:00:00</td>\n",
       "      <td>ETHUSD</td>\n",
       "      <td>1979.57</td>\n",
       "      <td>1984.89</td>\n",
       "      <td>1881.23</td>\n",
       "      <td>1949.43</td>\n",
       "      <td>20235.075500</td>\n",
       "    </tr>\n",
       "    <tr>\n",
       "      <th>4</th>\n",
       "      <td>1626235200000</td>\n",
       "      <td>2021-07-14 04:00:00</td>\n",
       "      <td>ETHUSD</td>\n",
       "      <td>1885.94</td>\n",
       "      <td>2040.57</td>\n",
       "      <td>1885.94</td>\n",
       "      <td>1979.57</td>\n",
       "      <td>5922.768232</td>\n",
       "    </tr>\n",
       "  </tbody>\n",
       "</table>\n",
       "</div>"
      ],
      "text/plain": [
       "   Unix Timestamp                 Date  Symbol     Open     High      Low  \\\n",
       "0   1626580800000  2021-07-18 04:00:00  ETHUSD  1982.38  1989.09  1877.53   \n",
       "1   1626494400000  2021-07-17 04:00:00  ETHUSD  1867.19  1993.73  1845.78   \n",
       "2   1626408000000  2021-07-16 04:00:00  ETHUSD  1949.43  1949.43  1858.73   \n",
       "3   1626321600000  2021-07-15 04:00:00  ETHUSD  1979.57  1984.89  1881.23   \n",
       "4   1626235200000  2021-07-14 04:00:00  ETHUSD  1885.94  2040.57  1885.94   \n",
       "\n",
       "     Close        Volume  \n",
       "0  1892.62  12135.666773  \n",
       "1  1982.38  14567.236055  \n",
       "2  1867.19   5054.764899  \n",
       "3  1949.43  20235.075500  \n",
       "4  1979.57   5922.768232  "
      ]
     },
     "execution_count": 3,
     "metadata": {},
     "output_type": "execute_result"
    }
   ],
   "source": [
    "data = list() \n",
    "for d in dir_list: \n",
    "    #df = pd.read_csv(io.StringIO(download.decode('utf-8')))\n",
    "    df = pd.read_csv('{}/{}'.format(path, d))\n",
    "    data.append(df)\n",
    "    \n",
    "data[0].head()"
   ]
  },
  {
   "cell_type": "code",
   "execution_count": 4,
   "metadata": {},
   "outputs": [
    {
     "data": {
      "image/png": "[encoded data removed]",
      "text/plain": [
       "<Figure size 432x288 with 1 Axes>"
      ]
     },
     "metadata": {
      "needs_background": "light"
     },
     "output_type": "display_data"
    }
   ],
   "source": [
    "ax = plt.gca()\n",
    "\n",
    "data[0].plot(kind='line',x='Date',y='Open',ax=ax)\n",
    "data[1].plot(kind='line',x='Date',y='Open', color='red', ax=ax)\n",
    "data[2].plot(kind='line',x='Date',y='Open', color='k', ax=ax)\n",
    "data[3].plot(kind='line',x='Date',y='Open', color='g', ax=ax)\n",
    "\n",
    "plt.show()"
   ]
  },
  {
   "cell_type": "code",
   "execution_count": 6,
   "metadata": {},
   "outputs": [
    {
     "data": {
      "text/html": [
       "<div>\n",
       "<style scoped>\n",
       "    .dataframe tbody tr th:only-of-type {\n",
       "        vertical-align: middle;\n",
       "    }\n",
       "\n",
       "    .dataframe tbody tr th {\n",
       "        vertical-align: top;\n",
       "    }\n",
       "\n",
       "    .dataframe thead th {\n",
       "        text-align: right;\n",
       "    }\n",
       "</style>\n",
       "<table border=\"1\" class=\"dataframe\">\n",
       "  <thead>\n",
       "    <tr style=\"text-align: right;\">\n",
       "      <th></th>\n",
       "      <th>Unix Timestamp</th>\n",
       "      <th>Date</th>\n",
       "      <th>Symbol</th>\n",
       "      <th>Open</th>\n",
       "      <th>High</th>\n",
       "      <th>Low</th>\n",
       "      <th>Close</th>\n",
       "      <th>Volume</th>\n",
       "      <th>Spread</th>\n",
       "    </tr>\n",
       "  </thead>\n",
       "  <tbody>\n",
       "    <tr>\n",
       "      <th>0</th>\n",
       "      <td>1626580800000</td>\n",
       "      <td>2021-07-18 04:00:00</td>\n",
       "      <td>ETHUSD</td>\n",
       "      <td>1.000000</td>\n",
       "      <td>1.003385</td>\n",
       "      <td>0.947109</td>\n",
       "      <td>0.954721</td>\n",
       "      <td>6.121766</td>\n",
       "      <td>0.056276</td>\n",
       "    </tr>\n",
       "    <tr>\n",
       "      <th>1</th>\n",
       "      <td>1626494400000</td>\n",
       "      <td>2021-07-17 04:00:00</td>\n",
       "      <td>ETHUSD</td>\n",
       "      <td>0.941893</td>\n",
       "      <td>1.005725</td>\n",
       "      <td>0.931093</td>\n",
       "      <td>1.000000</td>\n",
       "      <td>7.348357</td>\n",
       "      <td>0.074633</td>\n",
       "    </tr>\n",
       "    <tr>\n",
       "      <th>2</th>\n",
       "      <td>1626408000000</td>\n",
       "      <td>2021-07-16 04:00:00</td>\n",
       "      <td>ETHUSD</td>\n",
       "      <td>0.983379</td>\n",
       "      <td>0.983379</td>\n",
       "      <td>0.937625</td>\n",
       "      <td>0.941893</td>\n",
       "      <td>2.549847</td>\n",
       "      <td>0.045753</td>\n",
       "    </tr>\n",
       "    <tr>\n",
       "      <th>3</th>\n",
       "      <td>1626321600000</td>\n",
       "      <td>2021-07-15 04:00:00</td>\n",
       "      <td>ETHUSD</td>\n",
       "      <td>0.998583</td>\n",
       "      <td>1.001266</td>\n",
       "      <td>0.948975</td>\n",
       "      <td>0.983379</td>\n",
       "      <td>10.207466</td>\n",
       "      <td>0.052291</td>\n",
       "    </tr>\n",
       "    <tr>\n",
       "      <th>4</th>\n",
       "      <td>1626235200000</td>\n",
       "      <td>2021-07-14 04:00:00</td>\n",
       "      <td>ETHUSD</td>\n",
       "      <td>0.951351</td>\n",
       "      <td>1.029354</td>\n",
       "      <td>0.951351</td>\n",
       "      <td>0.998583</td>\n",
       "      <td>2.987706</td>\n",
       "      <td>0.078002</td>\n",
       "    </tr>\n",
       "  </tbody>\n",
       "</table>\n",
       "</div>"
      ],
      "text/plain": [
       "   Unix Timestamp                 Date  Symbol      Open      High       Low  \\\n",
       "0   1626580800000  2021-07-18 04:00:00  ETHUSD  1.000000  1.003385  0.947109   \n",
       "1   1626494400000  2021-07-17 04:00:00  ETHUSD  0.941893  1.005725  0.931093   \n",
       "2   1626408000000  2021-07-16 04:00:00  ETHUSD  0.983379  0.983379  0.937625   \n",
       "3   1626321600000  2021-07-15 04:00:00  ETHUSD  0.998583  1.001266  0.948975   \n",
       "4   1626235200000  2021-07-14 04:00:00  ETHUSD  0.951351  1.029354  0.951351   \n",
       "\n",
       "      Close     Volume    Spread  \n",
       "0  0.954721   6.121766  0.056276  \n",
       "1  1.000000   7.348357  0.074633  \n",
       "2  0.941893   2.549847  0.045753  \n",
       "3  0.983379  10.207466  0.052291  \n",
       "4  0.998583   2.987706  0.078002  "
      ]
     },
     "execution_count": 6,
     "metadata": {},
     "output_type": "execute_result"
    }
   ],
   "source": [
    "rel_data = data.copy() \n",
    "for d in rel_data: \n",
    "    start = d.iat[0, 3]\n",
    "    #df = pd.read_csv(io.StringIO(download.decode('utf-8')))\n",
    "    d['Open'] /= start\n",
    "    d['High'] /= start\n",
    "    d['Low'] /= start\n",
    "    d['Close'] /= start\n",
    "    d['Volume'] /= start\n",
    "    d['Spread'] = d['High'] - d['Low']\n",
    "rel_data[0].head()"
   ]
  },
  {
   "cell_type": "code",
   "execution_count": 7,
   "metadata": {},
   "outputs": [
    {
     "data": {
      "image/png": "[encoded data removed]",
      "text/plain": [
       "<Figure size 432x288 with 1 Axes>"
      ]
     },
     "metadata": {
      "needs_background": "light"
     },
     "output_type": "display_data"
    }
   ],
   "source": [
    "ax = plt.gca()\n",
    "\n",
    "rel_data[0].plot(kind='line',x='Date',y='Open',ax=ax)\n",
    "rel_data[1].plot(kind='line',x='Date',y='Open', color='red', ax=ax)\n",
    "rel_data[2].plot(kind='line',x='Date',y='Open', color='k', ax=ax)\n",
    "rel_data[3].plot(kind='line',x='Date',y='Open', color='g', ax=ax)\n",
    "\n",
    "plt.show()"
   ]
  },
  {
   "cell_type": "code",
   "execution_count": 8,
   "metadata": {},
   "outputs": [
    {
     "data": {
      "image/png": "[encoded data removed]",
      "text/plain": [
       "<Figure size 432x288 with 1 Axes>"
      ]
     },
     "metadata": {
      "needs_background": "light"
     },
     "output_type": "display_data"
    }
   ],
   "source": [
    "ax = plt.gca()\n",
    "\n",
    "rel_data[0].plot(kind='line',x='Date',y='Spread',ax=ax)\n",
    "rel_data[1].plot(kind='line',x='Date',y='Spread', color='red', ax=ax)\n",
    "rel_data[2].plot(kind='line',x='Date',y='Spread', color='k', ax=ax)\n",
    "rel_data[3].plot(kind='line',x='Date',y='Spread', color='g', ax=ax)\n",
    "\n",
    "plt.show()"
   ]
  },
  {
   "cell_type": "code",
   "execution_count": null,
   "metadata": {},
   "outputs": [],
   "source": []
  }
 ],
 "metadata": {
  "kernelspec": {
   "display_name": "Python 3",
   "language": "python",
   "name": "python3"
  },
  "language_info": {
   "codemirror_mode": {
    "name": "ipython",
    "version": 3
   },
   "file_extension": ".py",
   "mimetype": "text/x-python",
   "name": "python",
   "nbconvert_exporter": "python",
   "pygments_lexer": "ipython3",
   "version": "3.8.3"
  }
 },
 "nbformat": 4,
 "nbformat_minor": 4
}
